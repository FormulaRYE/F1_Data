{
 "cells": [
  {
   "cell_type": "markdown",
   "metadata": {},
   "source": [
    "# Who can still win the drivers WDC?\n",
    "\n",
    "Calculates which drivers still has chance to win the WDC.\n",
    "Simplified since it doesn't compare positions if points are equal.\n",
    "\n",
    "This example implements 3 functions that it then uses to calculate\n",
    "its result.\n"
   ]
  },
  {
   "cell_type": "code",
   "execution_count": 1,
   "metadata": {
    "collapsed": false,
    "jupyter": {
     "outputs_hidden": false
    }
   },
   "outputs": [],
   "source": [
    "import fastf1\n",
    "from fastf1.ergast import Ergast"
   ]
  },
  {
   "cell_type": "markdown",
   "metadata": {},
   "source": [
    "For this example, we are looking at the 2023 season.\n",
    "We want to know who can theoretically still win the drivers' championship\n",
    "after the first 15 races.\n",
    "\n"
   ]
  },
  {
   "cell_type": "code",
   "execution_count": 2,
   "metadata": {
    "collapsed": false,
    "jupyter": {
     "outputs_hidden": false
    }
   },
   "outputs": [],
   "source": [
    "SEASON = 2024\n",
    "ROUND = 17"
   ]
  },
  {
   "cell_type": "markdown",
   "metadata": {},
   "source": [
    "Get the current driver standings from Ergast.\n",
    "Reference https://docs.fastf1.dev/ergast.html#fastf1.ergast.Ergast.get_driver_standings\n",
    "\n"
   ]
  },
  {
   "cell_type": "code",
   "execution_count": 3,
   "metadata": {
    "collapsed": false,
    "jupyter": {
     "outputs_hidden": false
    }
   },
   "outputs": [],
   "source": [
    "def get_drivers_standings():\n",
    "    ergast = Ergast()\n",
    "    standings = ergast.get_driver_standings(season=SEASON, round=ROUND)\n",
    "    return standings.content[0]"
   ]
  },
  {
   "cell_type": "markdown",
   "metadata": {},
   "source": [
    "We need a function to calculates the maximum amount of points possible if a\n",
    "driver wins everything left of the season.\n",
    "https://en.wikipedia.org/wiki/List_of_Formula_One_World_Championship_points_scoring_systems\n",
    "\n"
   ]
  },
  {
   "cell_type": "code",
   "execution_count": 4,
   "metadata": {
    "collapsed": false,
    "jupyter": {
     "outputs_hidden": false
    }
   },
   "outputs": [],
   "source": [
    "def calculate_max_points_for_remaining_season():\n",
    "    POINTS_FOR_SPRINT = 8 + 25 + 1  # Winning the sprint, race and fastest lap\n",
    "    POINTS_FOR_CONVENTIONAL = 25 + 1  # Winning the race and fastest lap\n",
    "\n",
    "    events = fastf1.events.get_event_schedule(SEASON, backend='ergast')\n",
    "    events = events[events['RoundNumber'] > ROUND]\n",
    "    # Count how many sprints and conventional races are left\n",
    "    sprint_events = len(events.loc[events[\"EventFormat\"] == \"sprint_shootout\"])\n",
    "    conventional_events = len(events.loc[events[\"EventFormat\"] == \"conventional\"])\n",
    "\n",
    "    # Calculate points for each\n",
    "    sprint_points = sprint_events * POINTS_FOR_SPRINT\n",
    "    conventional_points = conventional_events * POINTS_FOR_CONVENTIONAL\n",
    "\n",
    "    return sprint_points + conventional_points"
   ]
  },
  {
   "cell_type": "markdown",
   "metadata": {},
   "source": [
    "For each driver we will see if there is a chance to get more points than\n",
    "the current leader. We assume the leader gets no more points and the\n",
    "driver gets the theoretical maximum amount of points.\n",
    "\n",
    "We currently don't consider the case of two drivers getting equal points\n",
    "since its more complicated and would require comparing positions.\n",
    "\n"
   ]
  },
  {
   "cell_type": "code",
   "execution_count": 5,
   "metadata": {
    "collapsed": false,
    "jupyter": {
     "outputs_hidden": false
    }
   },
   "outputs": [],
   "source": [
    "def calculate_who_can_win(driver_standings, max_points):\n",
    "    LEADER_POINTS = int(driver_standings.loc[0]['points'])\n",
    "\n",
    "    for i, _ in enumerate(driver_standings.iterrows()):\n",
    "        driver = driver_standings.loc[i]\n",
    "        driver_max_points = int(driver[\"points\"]) + max_points\n",
    "        can_win = 'No' if driver_max_points < LEADER_POINTS else 'Yes'\n",
    "\n",
    "        print(f\"{driver['position']}: {driver['givenName'] + ' ' + driver['familyName']}, \"\n",
    "              f\"Current points: {driver['points']}, \"\n",
    "              f\"Theoretical max points: {driver_max_points}, \"\n",
    "              f\"Can win: {can_win}\")"
   ]
  },
  {
   "cell_type": "markdown",
   "metadata": {},
   "source": [
    "Now using the 3 functions above we can use them to calculate who\n",
    "can still win.\n",
    "\n"
   ]
  },
  {
   "cell_type": "code",
   "execution_count": 6,
   "metadata": {
    "collapsed": false,
    "jupyter": {
     "outputs_hidden": false
    }
   },
   "outputs": [
    {
     "name": "stderr",
     "output_type": "stream",
     "text": [
      "req         WARNING \tDEFAULT CACHE ENABLED! (600.04 MB) /home/rylei/.cache/fastf1\n"
     ]
    },
    {
     "name": "stdout",
     "output_type": "stream",
     "text": [
      "1: Max Verstappen, Current points: 313.0, Theoretical max points: 417, Can win: Yes\n",
      "2: Lando Norris, Current points: 254.0, Theoretical max points: 358, Can win: Yes\n",
      "3: Charles Leclerc, Current points: 235.0, Theoretical max points: 339, Can win: Yes\n",
      "4: Oscar Piastri, Current points: 222.0, Theoretical max points: 326, Can win: Yes\n",
      "5: Carlos Sainz, Current points: 184.0, Theoretical max points: 288, Can win: No\n",
      "6: Lewis Hamilton, Current points: 166.0, Theoretical max points: 270, Can win: No\n",
      "7: George Russell, Current points: 143.0, Theoretical max points: 247, Can win: No\n",
      "8: Sergio Pérez, Current points: 143.0, Theoretical max points: 247, Can win: No\n",
      "9: Fernando Alonso, Current points: 58.0, Theoretical max points: 162, Can win: No\n",
      "10: Lance Stroll, Current points: 24.0, Theoretical max points: 128, Can win: No\n",
      "11: Nico Hülkenberg, Current points: 22.0, Theoretical max points: 126, Can win: No\n",
      "12: Yuki Tsunoda, Current points: 22.0, Theoretical max points: 126, Can win: No\n",
      "13: Alexander Albon, Current points: 12.0, Theoretical max points: 116, Can win: No\n",
      "14: Daniel Ricciardo, Current points: 12.0, Theoretical max points: 116, Can win: No\n",
      "15: Pierre Gasly, Current points: 8.0, Theoretical max points: 112, Can win: No\n",
      "16: Oliver Bearman, Current points: 7.0, Theoretical max points: 111, Can win: No\n",
      "17: Kevin Magnussen, Current points: 6.0, Theoretical max points: 110, Can win: No\n",
      "18: Esteban Ocon, Current points: 5.0, Theoretical max points: 109, Can win: No\n",
      "19: Franco Colapinto, Current points: 4.0, Theoretical max points: 108, Can win: No\n",
      "20: Guanyu Zhou, Current points: 0.0, Theoretical max points: 104, Can win: No\n",
      "21: Logan Sargeant, Current points: 0.0, Theoretical max points: 104, Can win: No\n",
      "22: Valtteri Bottas, Current points: 0.0, Theoretical max points: 104, Can win: No\n"
     ]
    }
   ],
   "source": [
    "# Get the current drivers standings\n",
    "driver_standings = get_drivers_standings()\n",
    "\n",
    "# Get the maximum amount of points\n",
    "points = calculate_max_points_for_remaining_season()\n",
    "\n",
    "# Print which drivers can still win\n",
    "calculate_who_can_win(driver_standings, points)"
   ]
  },
  {
   "cell_type": "code",
   "execution_count": null,
   "metadata": {},
   "outputs": [],
   "source": []
  }
 ],
 "metadata": {
  "kernelspec": {
   "display_name": "Python 3 (ipykernel)",
   "language": "python",
   "name": "python3"
  },
  "language_info": {
   "codemirror_mode": {
    "name": "ipython",
    "version": 3
   },
   "file_extension": ".py",
   "mimetype": "text/x-python",
   "name": "python",
   "nbconvert_exporter": "python",
   "pygments_lexer": "ipython3",
   "version": "3.12.6"
  }
 },
 "nbformat": 4,
 "nbformat_minor": 4
}
