{
 "cells": [
  {
   "cell_type": "markdown",
   "metadata": {},
   "source": [
    "\n",
    "# Tyre strategies during a race\n",
    "\n",
    "Plot all drivers' tyre strategies during a race.\n"
   ]
  },
  {
   "cell_type": "code",
   "execution_count": 1,
   "metadata": {
    "collapsed": false,
    "jupyter": {
     "outputs_hidden": false
    }
   },
   "outputs": [],
   "source": [
    "from matplotlib import pyplot as plt\n",
    "\n",
    "import fastf1\n",
    "import fastf1.plotting"
   ]
  },
  {
   "cell_type": "markdown",
   "metadata": {},
   "source": [
    "Load the race session\n",
    "\n"
   ]
  },
  {
   "cell_type": "code",
   "execution_count": 2,
   "metadata": {
    "collapsed": false,
    "jupyter": {
     "outputs_hidden": false
    }
   },
   "outputs": [
    {
     "name": "stderr",
     "output_type": "stream",
     "text": [
      "req         WARNING \tDEFAULT CACHE ENABLED! (716.22 MB) /home/rylei/.cache/fastf1\n",
      "core           INFO \tLoading data for United States Grand Prix - Race [v3.4.0]\n",
      "req            INFO \tUsing cached data for session_info\n",
      "req            INFO \tUsing cached data for driver_info\n",
      "req            INFO \tUsing cached data for session_status_data\n",
      "req            INFO \tUsing cached data for lap_count\n",
      "req            INFO \tUsing cached data for track_status_data\n",
      "req            INFO \tUsing cached data for _extended_timing_data\n",
      "req            INFO \tUsing cached data for timing_app_data\n",
      "core           INFO \tProcessing timing data...\n",
      "core        WARNING \tDriver  7: Lap timing integrity check failed for 1 lap(s)\n",
      "req            INFO \tUsing cached data for car_data\n",
      "req            INFO \tUsing cached data for position_data\n",
      "req            INFO \tUsing cached data for weather_data\n",
      "req            INFO \tUsing cached data for race_control_messages\n",
      "core           INFO \tFinished loading data for 20 drivers: ['33', '44', '11', '16', '3', '77', '55', '4', '22', '5', '99', '18', '7', '63', '6', '47', '9', '14', '31', '10']\n"
     ]
    }
   ],
   "source": [
    "session = fastf1.get_session(2021, \"Austin\", 'R')\n",
    "session.load()\n",
    "laps = session.laps"
   ]
  },
  {
   "cell_type": "markdown",
   "metadata": {},
   "source": [
    "Get the list of driver numbers\n",
    "\n"
   ]
  },
  {
   "cell_type": "code",
   "execution_count": 3,
   "metadata": {
    "collapsed": false,
    "jupyter": {
     "outputs_hidden": false
    }
   },
   "outputs": [
    {
     "name": "stdout",
     "output_type": "stream",
     "text": [
      "['33', '44', '11', '16', '3', '77', '55', '4', '22', '5', '99', '18', '7', '63', '6', '47', '9', '14', '31', '10']\n"
     ]
    }
   ],
   "source": [
    "drivers = session.drivers\n",
    "print(drivers)"
   ]
  },
  {
   "cell_type": "markdown",
   "metadata": {},
   "source": [
    "Convert the driver numbers to three letter abbreviations\n",
    "\n"
   ]
  },
  {
   "cell_type": "code",
   "execution_count": 4,
   "metadata": {
    "collapsed": false,
    "jupyter": {
     "outputs_hidden": false
    }
   },
   "outputs": [
    {
     "name": "stdout",
     "output_type": "stream",
     "text": [
      "['VER', 'HAM', 'PER', 'LEC', 'RIC', 'BOT', 'SAI', 'NOR', 'TSU', 'VET', 'GIO', 'STR', 'RAI', 'RUS', 'LAT', 'MSC', 'MAZ', 'ALO', 'OCO', 'GAS']\n"
     ]
    }
   ],
   "source": [
    "drivers = [session.get_driver(driver)[\"Abbreviation\"] for driver in drivers]\n",
    "print(drivers)"
   ]
  },
  {
   "cell_type": "markdown",
   "metadata": {},
   "source": [
    "We need to find the stint length and compound used\n",
    "for every stint by every driver.\n",
    "We do this by first grouping the laps by the driver,\n",
    "the stint number, and the compound.\n",
    "And then counting the number of laps in each group.\n",
    "\n"
   ]
  },
  {
   "cell_type": "code",
   "execution_count": 5,
   "metadata": {
    "collapsed": false,
    "jupyter": {
     "outputs_hidden": false
    }
   },
   "outputs": [],
   "source": [
    "stints = laps[[\"Driver\", \"Stint\", \"Compound\", \"LapNumber\"]]\n",
    "stints = stints.groupby([\"Driver\", \"Stint\", \"Compound\"])\n",
    "stints = stints.count().reset_index()"
   ]
  },
  {
   "cell_type": "markdown",
   "metadata": {},
   "source": [
    "The number in the LapNumber column now stands for the number of observations\n",
    "in that group aka the stint length.\n",
    "\n"
   ]
  },
  {
   "cell_type": "code",
   "execution_count": 6,
   "metadata": {
    "collapsed": false,
    "jupyter": {
     "outputs_hidden": false
    }
   },
   "outputs": [
    {
     "name": "stdout",
     "output_type": "stream",
     "text": [
      "   Driver  Stint Compound  StintLength\n",
      "0     ALO    1.0   MEDIUM            7\n",
      "1     ALO    2.0     HARD           21\n",
      "2     ALO    3.0     HARD           11\n",
      "3     ALO    4.0   MEDIUM           10\n",
      "4     BOT    1.0   MEDIUM           15\n",
      "..    ...    ...      ...          ...\n",
      "56    VER    2.0     HARD           19\n",
      "57    VER    3.0     HARD           27\n",
      "58    VET    1.0   MEDIUM           17\n",
      "59    VET    2.0   MEDIUM           21\n",
      "60    VET    3.0     HARD           17\n",
      "\n",
      "[61 rows x 4 columns]\n"
     ]
    }
   ],
   "source": [
    "stints = stints.rename(columns={\"LapNumber\": \"StintLength\"})\n",
    "print(stints)"
   ]
  },
  {
   "cell_type": "markdown",
   "metadata": {},
   "source": [
    "Now we can plot the strategies for each driver\n",
    "\n"
   ]
  },
  {
   "cell_type": "code",
   "execution_count": 7,
   "metadata": {
    "collapsed": false,
    "jupyter": {
     "outputs_hidden": false
    }
   },
   "outputs": [
    {
     "data": {
      "image/png": "[encoded data removed]",
      "text/plain": [
       "<Figure size 500x1000 with 1 Axes>"
      ]
     },
     "metadata": {},
     "output_type": "display_data"
    }
   ],
   "source": [
    "fig, ax = plt.subplots(figsize=(5, 10))\n",
    "\n",
    "for driver in drivers:\n",
    "    driver_stints = stints.loc[stints[\"Driver\"] == driver]\n",
    "\n",
    "    previous_stint_end = 0\n",
    "    for idx, row in driver_stints.iterrows():\n",
    "        # each row contains the compound name and stint length\n",
    "        # we can use these information to draw horizontal bars\n",
    "        compound_color = fastf1.plotting.get_compound_color(row[\"Compound\"],\n",
    "                                                            session=session)\n",
    "        plt.barh(\n",
    "            y=driver,\n",
    "            width=row[\"StintLength\"],\n",
    "            left=previous_stint_end,\n",
    "            color=compound_color,\n",
    "            edgecolor=\"black\",\n",
    "            fill=True\n",
    "        )\n",
    "\n",
    "        previous_stint_end += row[\"StintLength\"]"
   ]
  },
  {
   "cell_type": "markdown",
   "metadata": {},
   "source": [
    "Make the plot more readable and intuitive\n",
    "\n"
   ]
  },
  {
   "cell_type": "code",
   "execution_count": 8,
   "metadata": {
    "collapsed": false,
    "jupyter": {
     "outputs_hidden": false
    }
   },
   "outputs": [
    {
     "data": {
      "image/png": "[encoded data removed]",
      "text/plain": [
       "<Figure size 640x480 with 1 Axes>"
      ]
     },
     "metadata": {},
     "output_type": "display_data"
    }
   ],
   "source": [
    "plt.title(\"2022 Hungarian Grand Prix Strategies\")\n",
    "plt.xlabel(\"Lap Number\")\n",
    "plt.grid(False)\n",
    "# invert the y-axis so drivers that finish higher are closer to the top\n",
    "ax.invert_yaxis()"
   ]
  },
  {
   "cell_type": "markdown",
   "metadata": {},
   "source": [
    "Plot aesthetics\n",
    "\n"
   ]
  },
  {
   "cell_type": "code",
   "execution_count": 9,
   "metadata": {
    "collapsed": false,
    "jupyter": {
     "outputs_hidden": false
    }
   },
   "outputs": [
    {
     "data": {
      "text/plain": [
       "<Figure size 640x480 with 0 Axes>"
      ]
     },
     "metadata": {},
     "output_type": "display_data"
    }
   ],
   "source": [
    "ax.spines['top'].set_visible(False)\n",
    "ax.spines['right'].set_visible(False)\n",
    "ax.spines['left'].set_visible(False)\n",
    "\n",
    "plt.tight_layout()\n",
    "plt.show()"
   ]
  }
 ],
 "metadata": {
  "kernelspec": {
   "display_name": "Python 3 (ipykernel)",
   "language": "python",
   "name": "python3"
  },
  "language_info": {
   "codemirror_mode": {
    "name": "ipython",
    "version": 3
   },
   "file_extension": ".py",
   "mimetype": "text/x-python",
   "name": "python",
   "nbconvert_exporter": "python",
   "pygments_lexer": "ipython3",
   "version": "3.12.6"
  }
 },
 "nbformat": 4,
 "nbformat_minor": 4
}
